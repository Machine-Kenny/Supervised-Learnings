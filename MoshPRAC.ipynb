{
 "cells": [
  {
   "cell_type": "code",
   "execution_count": 1,
   "id": "0bdc4ed2-d6b6-4c5c-a5d8-e95992253946",
   "metadata": {},
   "outputs": [],
   "source": [
    "fruits = (\"app\", \"ban\", \"cher\")"
   ]
  },
  {
   "cell_type": "code",
   "execution_count": 2,
   "id": "f9ddb98a-ca0a-444d-8f43-6347fd074351",
   "metadata": {},
   "outputs": [],
   "source": [
    "x, y, z = fruits"
   ]
  },
  {
   "cell_type": "code",
   "execution_count": 3,
   "id": "51a067b4-6c24-40c0-95be-3ffec522d7e1",
   "metadata": {},
   "outputs": [
    {
     "data": {
      "text/plain": [
       "12"
      ]
     },
     "execution_count": 3,
     "metadata": {},
     "output_type": "execute_result"
    }
   ],
   "source": [
    "9^5"
   ]
  },
  {
   "cell_type": "code",
   "execution_count": 4,
   "id": "91f85f48-ada4-4334-b258-97cacd64d9a6",
   "metadata": {},
   "outputs": [
    {
     "name": "stdout",
     "output_type": "stream",
     "text": [
      "2\n",
      "3\n",
      "4\n",
      "5\n",
      "6\n",
      "7\n",
      "Done\n"
     ]
    }
   ],
   "source": [
    "#Testing the while loop\n",
    "i = 1\n",
    "while i <= 6:\n",
    "    i = i + 1\n",
    "    print(i)\n",
    "print(\"Done\")"
   ]
  },
  {
   "cell_type": "code",
   "execution_count": 5,
   "id": "92d7086c-d666-497b-802d-89c8b8a02ad8",
   "metadata": {},
   "outputs": [
    {
     "name": "stdin",
     "output_type": "stream",
     "text": [
      ">  help\n"
     ]
    },
    {
     "name": "stdout",
     "output_type": "stream",
     "text": [
      "\n",
      "Type start to start the car\n",
      "Type stop to stop the car\n",
      "Type quit to quit the game\n",
      "        \n"
     ]
    },
    {
     "name": "stdin",
     "output_type": "stream",
     "text": [
      ">  quit\n"
     ]
    }
   ],
   "source": [
    "#Car game with the while loop and if statment\n",
    "command = \"\"\n",
    "while True:\n",
    "    command = input(\"> \").lower()\n",
    "    if command == \"start\":\n",
    "        print(\"The Car has started\")\n",
    "    elif command == \"stop\":\n",
    "        print(\"The car has stopped\")\n",
    "    elif command == \"help\":\n",
    "        print(\"\"\"\n",
    "Type start to start the car\n",
    "Type stop to stop the car\n",
    "Type quit to quit the game\n",
    "        \"\"\")\n",
    "    elif command == \"quit\":\n",
    "        break\n",
    "    else:\n",
    "        print(\"I dont understand the command\")"
   ]
  },
  {
   "cell_type": "code",
   "execution_count": 6,
   "id": "9956b62c-615a-439b-8e1f-0b68c44a02ce",
   "metadata": {},
   "outputs": [
    {
     "name": "stdout",
     "output_type": "stream",
     "text": [
      "Total: 10\n",
      "Total: 30\n",
      "Total: 60\n",
      "Total: 100\n"
     ]
    }
   ],
   "source": [
    "#checking and testing for loop\n",
    "prices = [10, 20, 30, 40]\n",
    "total = 0\n",
    "for item in prices:\n",
    "    total+=item\n",
    "    print(f\"Total: {total}\")"
   ]
  },
  {
   "cell_type": "code",
   "execution_count": 7,
   "id": "d7e2ca9b-a540-448e-ba45-b8c7beca762b",
   "metadata": {},
   "outputs": [
    {
     "name": "stdout",
     "output_type": "stream",
     "text": [
      "(0 , 0)\n",
      "(0 , 1)\n",
      "(0 , 2)\n",
      "(1 , 0)\n",
      "(1 , 1)\n",
      "(1 , 2)\n",
      "(2 , 0)\n",
      "(2 , 1)\n",
      "(2 , 2)\n",
      "(3 , 0)\n",
      "(3 , 1)\n",
      "(3 , 2)\n"
     ]
    }
   ],
   "source": [
    "#nested loops, loop in loop\n",
    "#while the outter loop does 1-iteration, the inner loop completes all its level of iterations\n",
    "#in actual sense, since the outter loop will produce 0, 1, 2, 3 - that means the inner loop will complete four \n",
    "#iterations.\n",
    "for x in range(4):\n",
    "    for y in range(3):\n",
    "        print(f'({x} , {y})')"
   ]
  },
  {
   "cell_type": "code",
   "execution_count": 8,
   "id": "93dfa31b-8d7e-40bf-9295-d785079c5cc4",
   "metadata": {},
   "outputs": [
    {
     "name": "stdout",
     "output_type": "stream",
     "text": [
      "x\n",
      "xx\n",
      "xxx\n",
      "xxxx\n",
      "xxxxx\n",
      "x\n",
      "xx\n",
      "x\n",
      "xx\n",
      "xxx\n",
      "xxxx\n",
      "xxxxx\n",
      "x\n",
      "xx\n",
      "x\n",
      "xx\n"
     ]
    }
   ],
   "source": [
    "#sophisticated nested loop example\n",
    "numbers = [5, 2, 5, 2, 2]\n",
    "for items in numbers:\n",
    "    output = \"\"\n",
    "    for count in range(items):\n",
    "        output += \"x\"\n",
    "        print(output)"
   ]
  },
  {
   "cell_type": "code",
   "execution_count": 9,
   "id": "2414267e-4b50-4ec0-a0b9-ca6fab78c1bb",
   "metadata": {},
   "outputs": [
    {
     "name": "stdout",
     "output_type": "stream",
     "text": [
      "xxxxx\n",
      "xx\n",
      "xxxxx\n",
      "xx\n",
      "xx\n"
     ]
    }
   ],
   "source": [
    "#the above didn't give us the F-shape we want, trying a simpler method\n",
    "numbers = [5, 2, 5, 2, 2]\n",
    "for items in numbers:\n",
    "    print(items * \"x\")"
   ]
  },
  {
   "cell_type": "code",
   "execution_count": 10,
   "id": "5f1bbbce-3ede-40fe-b955-1cceb9c7a586",
   "metadata": {},
   "outputs": [
    {
     "name": "stdout",
     "output_type": "stream",
     "text": [
      "9\n"
     ]
    }
   ],
   "source": [
    "#finding the largest number in a list\n",
    "#using a for loop, to check the value of the variable max with the list and find the highest number to be\n",
    "#set as the new max in the iteration\n",
    "numbers = [3, 5, 6, 9, 5, 8, 7]\n",
    "max = numbers[0]\n",
    "for items in numbers:\n",
    "    if items > max:\n",
    "        max = items\n",
    "print(max)\n"
   ]
  },
  {
   "cell_type": "code",
   "execution_count": 11,
   "id": "d170bef4-a781-470b-971e-8fc8716d5892",
   "metadata": {},
   "outputs": [
    {
     "name": "stdout",
     "output_type": "stream",
     "text": [
      "4\n"
     ]
    }
   ],
   "source": [
    "#creating a Matrix with 2-Dimensional list and accessing it - in this example, we accessed the first list [0]\n",
    "# and the second item in the first list [1]\n",
    "matrix = [\n",
    "    [2, 4, 6],\n",
    "    [4, 8, 10],\n",
    "    [6, 8, 2]\n",
    "]\n",
    "print(matrix[0][1])"
   ]
  },
  {
   "cell_type": "code",
   "execution_count": 12,
   "id": "e91f5ce6-11f6-4d53-8676-c7d06fa6c075",
   "metadata": {},
   "outputs": [
    {
     "ename": "NameError",
     "evalue": "name 'c' is not defined",
     "output_type": "error",
     "traceback": [
      "\u001b[1;31m---------------------------------------------------------------------------\u001b[0m",
      "\u001b[1;31mNameError\u001b[0m                                 Traceback (most recent call last)",
      "\u001b[1;32m~\\AppData\\Local\\Temp/ipykernel_4084/333036249.py\u001b[0m in \u001b[0;36m<module>\u001b[1;34m\u001b[0m\n\u001b[0;32m      1\u001b[0m \u001b[1;31m#changing a value in matrix, just like we do in a list\u001b[0m\u001b[1;33m\u001b[0m\u001b[1;33m\u001b[0m\u001b[0m\n\u001b[1;32m----> 2\u001b[1;33m \u001b[0mc\u001b[0m\u001b[1;33m\u001b[0m\u001b[1;33m\u001b[0m\u001b[0m\n\u001b[0m\u001b[0;32m      3\u001b[0m \u001b[0mmatrix\u001b[0m\u001b[1;33m[\u001b[0m\u001b[1;36m0\u001b[0m\u001b[1;33m]\u001b[0m\u001b[1;33m[\u001b[0m\u001b[1;36m2\u001b[0m\u001b[1;33m]\u001b[0m \u001b[1;33m=\u001b[0m \u001b[1;36m50\u001b[0m\u001b[1;33m\u001b[0m\u001b[1;33m\u001b[0m\u001b[0m\n\u001b[0;32m      4\u001b[0m \u001b[0mprint\u001b[0m\u001b[1;33m(\u001b[0m\u001b[0mmatrix\u001b[0m\u001b[1;33m)\u001b[0m\u001b[1;33m\u001b[0m\u001b[1;33m\u001b[0m\u001b[0m\n",
      "\u001b[1;31mNameError\u001b[0m: name 'c' is not defined"
     ]
    }
   ],
   "source": [
    "#changing a value in matrix, just like we do in a list\n",
    "c\n",
    "matrix[0][2] = 50\n",
    "print(matrix)"
   ]
  },
  {
   "cell_type": "code",
   "execution_count": null,
   "id": "8709fc83-6a14-4d75-9b57-4bcc43a3a591",
   "metadata": {},
   "outputs": [],
   "source": [
    "#iterating over a matrix \n",
    "for row in matrix:\n",
    "    for cars in row:\n",
    "        print(cars)"
   ]
  },
  {
   "cell_type": "code",
   "execution_count": null,
   "id": "6d060759-dcb5-4360-97ac-5b6d0739afec",
   "metadata": {},
   "outputs": [],
   "source": [
    "#List methods\n",
    "#Append - to add to our list\n",
    "aList = [2, 3, 4, 5, 6, 7]\n",
    "aList.append(10)\n",
    "print(aList)"
   ]
  },
  {
   "cell_type": "code",
   "execution_count": null,
   "id": "4405d89f-b847-425b-987f-7fb2f77cba02",
   "metadata": {},
   "outputs": [],
   "source": [
    "#List methods\n",
    "#Insert(takes the index, what to be added) - note the index is just the position\n",
    "aList.insert(1, 100)\n",
    "print(aList)"
   ]
  },
  {
   "cell_type": "code",
   "execution_count": null,
   "id": "7630b2a6-c122-4f04-89de-49990a05908b",
   "metadata": {},
   "outputs": [],
   "source": [
    "#List methods\n",
    "#remove an item from the list - we just pass the item we want to remove into the ()\n",
    "#we can use the clear method to clear all the items in the list - aList.clear()\n",
    "aList.remove(100)\n",
    "print(aList)"
   ]
  },
  {
   "cell_type": "code",
   "execution_count": null,
   "id": "d1284570-d1b4-4251-8e82-e7d5f2cdb9ce",
   "metadata": {},
   "outputs": [],
   "source": [
    "#List methods\n",
    "#pop method is to remove the last item in the list\n",
    "#to check for the index, we call the index method - aList.index(7)\n",
    "aList.pop()\n",
    "print(aList)"
   ]
  },
  {
   "cell_type": "code",
   "execution_count": null,
   "id": "310f56a5-262a-4cd4-8d95-26b01ace960e",
   "metadata": {},
   "outputs": [],
   "source": [
    "#List methods\n",
    "#count method to count the occurrence of an item\n",
    "print(aList.count(6))"
   ]
  },
  {
   "cell_type": "code",
   "execution_count": null,
   "id": "70b03f37-9e82-4703-8705-dfd70369a325",
   "metadata": {},
   "outputs": [],
   "source": [
    "#List methods\n",
    "#sorting the list, the default is ascending order\n",
    "#in decending order we use - aList.reverse()]\n",
    "#we can also copy a list by using the copy method - aList.copy()\n",
    "aList.sort()\n",
    "print(aList)"
   ]
  },
  {
   "cell_type": "code",
   "execution_count": null,
   "id": "0d83f2d7-56cb-4879-970c-be3c11f14c8c",
   "metadata": {},
   "outputs": [],
   "source": [
    "#writing a program to remove the duplicates in a list\n",
    "d_list = [2, 2, 3, 2, 3, 4, 5, 5, 4, 3, 6, 7, 8, 9, 7]\n",
    "distinct = []\n",
    "for m_list in d_list:\n",
    "    if m_list not in distinct:\n",
    "        distinct.append(m_list)\n",
    "    print(distinct)"
   ]
  },
  {
   "cell_type": "code",
   "execution_count": null,
   "id": "05369da2-727d-466d-84cb-6a3183d651af",
   "metadata": {},
   "outputs": [],
   "source": [
    "#Unpacking - using a turpple as a case scenario\n",
    "cod = (1, 2, 3)\n",
    "w, s, t = cod\n",
    "print(w)"
   ]
  },
  {
   "cell_type": "code",
   "execution_count": null,
   "id": "e7fed32e-e545-462b-893d-3849a9f36cec",
   "metadata": {},
   "outputs": [],
   "source": [
    "#Dictionary - to store info that comes as key values pairs and each key should be unique in a dictionary\n",
    "customer = {\n",
    "    \"name\": \"Kenny\",\n",
    "    \"age\": 26,\n",
    "    \"is_verified\": True\n",
    "}\n",
    "print(customer[\"name\"])"
   ]
  },
  {
   "cell_type": "code",
   "execution_count": null,
   "id": "0a0c40db-aab4-4ba8-b208-663342c295db",
   "metadata": {},
   "outputs": [],
   "source": [
    "#using the get method to get around being thrown error - customer.get()\n",
    "#so to get one that does not throw error, we do the below.\n",
    "print(customer.get(\"birth\"))"
   ]
  },
  {
   "cell_type": "code",
   "execution_count": null,
   "id": "0e98ec31-90ad-4be8-a784-55798116d6bf",
   "metadata": {},
   "outputs": [],
   "source": [
    "#setting a value to the above \"birth\" key - thw value \"Jan 1 2020\" to the key \"birth\"\n",
    "print(customer.get(\"birth\", \"Jan 1 2020\"))"
   ]
  },
  {
   "cell_type": "code",
   "execution_count": null,
   "id": "cfc17c65-a2ac-4b34-9fdf-8508a6f5295c",
   "metadata": {},
   "outputs": [],
   "source": [
    "#updating a value in a dictionary\n",
    "customer[\"name\"] = \"Jhon Smith\"\n",
    "print(customer[\"name\"])"
   ]
  },
  {
   "cell_type": "code",
   "execution_count": null,
   "id": "61938aea-4475-46d9-8ecc-9d68cfb0a35a",
   "metadata": {},
   "outputs": [],
   "source": [
    "#Programs that translate digits to alphabet - we use dictionary to solve this\n",
    "phone = input(\"Phone: \")\n",
    "d_trans = {\n",
    "    \"1\": \"One\",\n",
    "    \"2\": \"Two\",\n",
    "    \"3\": \"Three\",\n",
    "    \"4\": \"Four\",\n",
    "    \"5\": \"Five\",\n",
    "    \"6\": \"Six\",\n",
    "    \"7\": \"Seven\",\n",
    "    \"8\": \"Eight\",\n",
    "    \"9\": \"Nine\",\n",
    "    \"0\": \"Zero\"\n",
    "}\n",
    "out = \"\"\n",
    "for charac in phone:\n",
    "    out += d_trans.get(charac, \"Enter only digits!\") + \" \"\n",
    "print(out)"
   ]
  },
  {
   "cell_type": "code",
   "execution_count": null,
   "id": "986d6c85-805f-4a10-835a-e7d86a822712",
   "metadata": {},
   "outputs": [],
   "source": [
    "#Emoji Converter - using the split method in order for it to return a list\n",
    "message = input(\">\")\n",
    "words = message.split(\" \")\n",
    "emojis = {\n",
    "    \":)\": \"Smiley\",\n",
    "    \":)\": \"Sad\"\n",
    "}\n",
    "output = \"\"\n",
    "for word in words:\n",
    "    output += emojis.get(word, word) + \" \"\n",
    "print(output)"
   ]
  },
  {
   "cell_type": "code",
   "execution_count": null,
   "id": "c9636eb1-a23d-45d0-a4b0-59728b64797c",
   "metadata": {},
   "outputs": [],
   "source": [
    "#Functions - passing a parameter into a function - Note, when a function has a parameter, we are obligated to pass\n",
    "#a value into that parameter - from example below, name is a parameter and Kenny is an argument\n",
    "def greet_user(name):\n",
    "    print(f\"Hi {name}\")\n",
    "    print(\"Welcome to the Club\")\n",
    "    \n",
    "greet_user(\"Kenny\")"
   ]
  },
  {
   "cell_type": "code",
   "execution_count": null,
   "id": "d8150f82-0366-4f09-ba5b-afcabb5c2260",
   "metadata": {},
   "outputs": [],
   "source": [
    "#dealing with errors, using the Try - Except syntax block\n",
    "age = int(input(\"What is your age? \"))\n",
    "print(age)"
   ]
  },
  {
   "cell_type": "code",
   "execution_count": null,
   "id": "bc10a7ee-e329-40a4-a1a7-9df4ad595432",
   "metadata": {},
   "outputs": [],
   "source": [
    "#dealing with the value error above - letting the user know that an integer should be entered instead\n",
    "#depending on the value, we can have more than one except block\n",
    "try:\n",
    "    age = int(input(\"What is your age? \"))\n",
    "    print(age)\n",
    "except ValueError:\n",
    "    print(\"Invalid Value - please enter any digit and not alphabet\")"
   ]
  },
  {
   "cell_type": "code",
   "execution_count": null,
   "id": "14a0b4c6-2df8-4fa2-b4ce-e4e341d20b2b",
   "metadata": {},
   "outputs": [],
   "source": [
    "#workin with Class and also creating a class object (more like an methiod) just like a list or string method\n",
    "#We basically use class to define new types \n",
    "# naming convention for class starts with capital alphabet - Point - this is PascalCase naming convention\n",
    "class Point:\n",
    "    def move(self):\n",
    "        print(\"move\")\n",
    "    def draw(self):\n",
    "        print(\"draw\")\n",
    "        \n",
    "point1 = Point()\n",
    "point1.move()"
   ]
  },
  {
   "cell_type": "code",
   "execution_count": null,
   "id": "6bd47de9-2fd9-4383-8b76-6505925798b9",
   "metadata": {},
   "outputs": [],
   "source": [
    "# AN object is an instance of a class - like the point1 created in the block of code\n",
    "# note: each object is a different instance of a class as seen below\n",
    "point1.x = 20\n",
    "print(point1.x)"
   ]
  },
  {
   "cell_type": "code",
   "execution_count": null,
   "id": "2b21c8b6-e6c1-462b-8ae1-116e9d08a7ba",
   "metadata": {},
   "outputs": [],
   "source": [
    "#Using a Constructor - it is a function that gets called at the time of creating an object\n",
    "class Shot:\n",
    "    def __init__(self, x, y):\n",
    "        self.x = x\n",
    "        self.y = y\n",
    "    def done(self):\n",
    "        print(\"done\")\n",
    "    def checking(self):\n",
    "        print(\"checking\")\n",
    "        \n",
    "soint = Shot(10, 20)\n",
    "print(soint.x)"
   ]
  },
  {
   "cell_type": "code",
   "execution_count": null,
   "id": "42338765-00eb-4a97-8dff-ea082c62aeed",
   "metadata": {},
   "outputs": [],
   "source": [
    "class Person:\n",
    "    def __init__(self, name):\n",
    "        self.name = name\n",
    "    def talk(self):\n",
    "        print(f\"Hi, I am {self.name}\")\n",
    "    \n",
    "john = Person(\"John Smith\")\n",
    "john.talk()"
   ]
  },
  {
   "cell_type": "code",
   "execution_count": null,
   "id": "e48ba253-daf7-4f8f-a5ce-9c6b311dd14d",
   "metadata": {},
   "outputs": [],
   "source": [
    "#Using inheritance - it is a mechanism for re-using code -- for example creating a parent Mammal class and \n",
    "#letting other animals class to inherit them\n",
    "#Python doesn't like an empty class so we can use the pass statement to evade this\n",
    "#with the help of inheritance, we can also have more than 1method in a class like in the case of dog below\n",
    "class Mammal:\n",
    "    def walk(self):\n",
    "        print(\"walk\")\n",
    "class Dog(Mammal):\n",
    "    def bark(self):\n",
    "        print(\"bark\")\n",
    "class Cat(Mammal):\n",
    "    pass\n",
    "\n",
    "dog1 = Dog()\n",
    "dog1.bark()"
   ]
  },
  {
   "cell_type": "code",
   "execution_count": null,
   "id": "a4e1477a-30af-4f17-bc47-58d653f27566",
   "metadata": {},
   "outputs": [],
   "source": [
    "# Modules - here we created a module called \"Convert\" from a text file by changing the txt extension to .py\n",
    "import convert as co\n",
    "co.lbs_to_kg(50)"
   ]
  },
  {
   "cell_type": "code",
   "execution_count": null,
   "id": "2a786d1c-50b3-415d-896b-6b0d3b9385ed",
   "metadata": {},
   "outputs": [],
   "source": [
    "#importing specific syntax from a module\n",
    "from convert import kg_to_lbs\n",
    "kg_to_lbs(60)"
   ]
  },
  {
   "cell_type": "code",
   "execution_count": null,
   "id": "e911f8ee-11a3-4a9d-81eb-d7da9b7772e7",
   "metadata": {},
   "outputs": [],
   "source": [
    " # Package is a container for multiple modules - ideally, they will be related \n",
    "    # it is a basically a directory or folder\n",
    "# To create a package, we go to our Terminal -- This is done with Pycharm cos it is easier there"
   ]
  },
  {
   "cell_type": "code",
   "execution_count": null,
   "id": "eb8a5441-c786-4187-a453-3d61e15c4cd2",
   "metadata": {},
   "outputs": [],
   "source": [
    "#using and importing the built in random module in python\n",
    "import random\n",
    "for item in range(5):\n",
    "    print(random.random())"
   ]
  },
  {
   "cell_type": "code",
   "execution_count": null,
   "id": "57caac93-cd49-4871-94eb-91df45bb3a41",
   "metadata": {},
   "outputs": [],
   "source": [
    "#using and importing the built in random module in python \n",
    "#printing random values btwn 10 and 20 - with 5 iteration cos of the range\n",
    "# for everytime we run it, we will be getiing a different random value\n",
    "import random\n",
    "for item in range(5):\n",
    "    print(random.randint(10, 20))"
   ]
  },
  {
   "cell_type": "code",
   "execution_count": null,
   "id": "a85c28a9-3cb6-4d90-b8c7-8ab54754bddc",
   "metadata": {},
   "outputs": [],
   "source": [
    "# using random.choice on a list of strings\n",
    "members = [\"John\", \"Mary\", \"Juliet\", \"Maria\", \"Jane\"]\n",
    "leader = random.choice(members)\n",
    "print(leader)"
   ]
  },
  {
   "cell_type": "code",
   "execution_count": null,
   "id": "a6abf455-918b-42ac-a927-f8b9e184f154",
   "metadata": {},
   "outputs": [],
   "source": [
    "#The roll a dice game - we use the formatted string to print this out\n",
    "dice = [1, 2, 3, 4, 5, 6]\n",
    "dice2 = [1, 2, 3, 4, 5, 6]\n",
    "roll = random.choice(dice)\n",
    "roll2 = random.choice(dice2)\n",
    "print(f\"({roll}, {roll2})\")"
   ]
  },
  {
   "cell_type": "code",
   "execution_count": null,
   "id": "f9cc45f4-3479-4664-ad84-defcfcc81a3d",
   "metadata": {},
   "outputs": [],
   "source": [
    "#Doing it Mosh way - using a class while the random method has been imported\n",
    "class Dice:\n",
    "    def roll(self):\n",
    "        first = random.randint(1, 6)\n",
    "        second = random.randint(1, 6)\n",
    "        return(first, second)\n",
    "dice = Dice()\n",
    "print(dice.roll())"
   ]
  },
  {
   "cell_type": "code",
   "execution_count": null,
   "id": "9949f153-9b7d-47fd-8499-831e393f99b9",
   "metadata": {},
   "outputs": [],
   "source": [
    "#using the glob() method to search for files directory in the current Path\n",
    "# we use *.* to get all the files in the directory\n",
    "# we search for  all the py files or all the spreadsheets - '*.py', '*.xls'. '*.csv'\n",
    "# # we can iterate or loop through a file in the directory\n",
    "from pathlib import Path\n",
    "path = Path()\n",
    "for file in path.glob('*.py'):\n",
    "    print(file)"
   ]
  },
  {
   "cell_type": "code",
   "execution_count": null,
   "id": "a9e8f768-4e7e-4f44-aefb-42cdeed2105d",
   "metadata": {},
   "outputs": [],
   "source": [
    "#creating a directory we dont have\n",
    "#the below block of code will create a new dictory called email\n",
    "#print(path.rmdir()) - this will move the new folder created in the directory\n",
    "from pathlib import Path\n",
    "path = Path(\"emails\")\n",
    "print(path.mkdir())"
   ]
  },
  {
   "cell_type": "code",
   "execution_count": null,
   "id": "cac6ee5e-ab28-4564-add3-2dce9fd38b46",
   "metadata": {},
   "outputs": [],
   "source": [
    "#Pypi - Python Package Index(built by the community, so that others can find it and use it - not built by Python\n",
    "# the site is pypi.org - and then we can make a search..\n",
    "#openpyxl - it is a package for working with excel sheets on pypi.org\n",
    "#How to install a pacakge from pypi.org into our terminal\n",
    "#on your opened terminal - type the syntax below to install the package - $ might not be needed\n",
    " # $pip install openpyxl"
   ]
  },
  {
   "cell_type": "code",
   "execution_count": 17,
   "id": "b429efed-8d30-4f3c-82fb-2b6fc1e4c18a",
   "metadata": {},
   "outputs": [
    {
     "data": {
      "text/html": [
       "<div>\n",
       "<style scoped>\n",
       "    .dataframe tbody tr th:only-of-type {\n",
       "        vertical-align: middle;\n",
       "    }\n",
       "\n",
       "    .dataframe tbody tr th {\n",
       "        vertical-align: top;\n",
       "    }\n",
       "\n",
       "    .dataframe thead th {\n",
       "        text-align: right;\n",
       "    }\n",
       "</style>\n",
       "<table border=\"1\" class=\"dataframe\">\n",
       "  <thead>\n",
       "    <tr style=\"text-align: right;\">\n",
       "      <th></th>\n",
       "      <th>transaction_id</th>\n",
       "      <th>product_id</th>\n",
       "      <th>price</th>\n",
       "      <th>Unnamed: 3</th>\n",
       "    </tr>\n",
       "  </thead>\n",
       "  <tbody>\n",
       "    <tr>\n",
       "      <th>0</th>\n",
       "      <td>1001</td>\n",
       "      <td>1</td>\n",
       "      <td>5.95</td>\n",
       "      <td>5.355</td>\n",
       "    </tr>\n",
       "    <tr>\n",
       "      <th>1</th>\n",
       "      <td>1002</td>\n",
       "      <td>2</td>\n",
       "      <td>6.95</td>\n",
       "      <td>6.255</td>\n",
       "    </tr>\n",
       "    <tr>\n",
       "      <th>2</th>\n",
       "      <td>1003</td>\n",
       "      <td>3</td>\n",
       "      <td>7.95</td>\n",
       "      <td>7.155</td>\n",
       "    </tr>\n",
       "  </tbody>\n",
       "</table>\n",
       "</div>"
      ],
      "text/plain": [
       "   transaction_id  product_id  price  Unnamed: 3\n",
       "0            1001           1   5.95       5.355\n",
       "1            1002           2   6.95       6.255\n",
       "2            1003           3   7.95       7.155"
      ]
     },
     "execution_count": 17,
     "metadata": {},
     "output_type": "execute_result"
    }
   ],
   "source": [
    "#Working with updating spreadsheet - automating it\n",
    "import pandas as pd\n",
    "trasact = pd.read_excel(\"C:\\Python_Files\\TransactMosh.xlsx\")\n",
    "trasact"
   ]
  },
  {
   "cell_type": "code",
   "execution_count": 25,
   "id": "3b5d5493-6e46-4ad8-95be-34be6e7a37be",
   "metadata": {},
   "outputs": [
    {
     "data": {
      "text/plain": [
       "0    5.95\n",
       "1    6.95\n",
       "Name: price, dtype: float64"
      ]
     },
     "execution_count": 25,
     "metadata": {},
     "output_type": "execute_result"
    }
   ],
   "source": [
    "sheet = trasact.iloc[[0,1], 2]\n",
    "sheet"
   ]
  },
  {
   "cell_type": "code",
   "execution_count": null,
   "id": "db6b0007-a116-45fb-b0f9-c9e340e05d74",
   "metadata": {},
   "outputs": [],
   "source": [
    "#When working with Machine Learning Project, we use Jupyter for writing code - cos of frequent output\n"
   ]
  }
 ],
 "metadata": {
  "kernelspec": {
   "display_name": "Python 3 (ipykernel)",
   "language": "python",
   "name": "python3"
  },
  "language_info": {
   "codemirror_mode": {
    "name": "ipython",
    "version": 3
   },
   "file_extension": ".py",
   "mimetype": "text/x-python",
   "name": "python",
   "nbconvert_exporter": "python",
   "pygments_lexer": "ipython3",
   "version": "3.9.7"
  }
 },
 "nbformat": 4,
 "nbformat_minor": 5
}
